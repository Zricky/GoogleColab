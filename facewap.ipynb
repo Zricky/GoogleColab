{
  "nbformat": 4,
  "nbformat_minor": 0,
  "metadata": {
    "colab": {
      "name": "facewap.ipynb",
      "version": "0.3.2",
      "provenance": [],
      "include_colab_link": true
    },
    "kernelspec": {
      "name": "python3",
      "display_name": "Python 3"
    },
    "accelerator": "GPU"
  },
  "cells": [
    {
      "cell_type": "markdown",
      "metadata": {
        "id": "view-in-github",
        "colab_type": "text"
      },
      "source": [
        "<a href=\"https://colab.research.google.com/github/Zricky/GoogleColab/blob/master/facewap.ipynb\" target=\"_parent\"><img src=\"https://colab.research.google.com/assets/colab-badge.svg\" alt=\"Open In Colab\"/></a>"
      ]
    },
    {
      "metadata": {
        "id": "0TuI77akvbFx",
        "colab_type": "code",
        "outputId": "206286f0-e3ba-4d70-eceb-c6c181de4631",
        "colab": {
          "base_uri": "https://localhost:8080/",
          "height": 35
        }
      },
      "cell_type": "code",
      "source": [
        "!python -V"
      ],
      "execution_count": 0,
      "outputs": [
        {
          "output_type": "stream",
          "text": [
            "Python 3.6.7\n"
          ],
          "name": "stdout"
        }
      ]
    },
    {
      "metadata": {
        "id": "XOQ7YJOOvkJn",
        "colab_type": "code",
        "outputId": "c39a8db2-7eab-47ac-b658-7bb82f14f05b",
        "colab": {
          "base_uri": "https://localhost:8080/",
          "height": 107
        }
      },
      "cell_type": "code",
      "source": [
        "!ls -la"
      ],
      "execution_count": 0,
      "outputs": [
        {
          "output_type": "stream",
          "text": [
            "total 16\n",
            "drwxr-xr-x 1 root root 4096 Feb 26 17:33 .\n",
            "drwxr-xr-x 1 root root 4096 Mar  1 05:26 ..\n",
            "drwxr-xr-x 1 root root 4096 Feb 26 17:33 .config\n",
            "drwxr-xr-x 1 root root 4096 Feb 26 17:33 sample_data\n"
          ],
          "name": "stdout"
        }
      ]
    },
    {
      "metadata": {
        "id": "zWj39pujw2Jp",
        "colab_type": "code",
        "outputId": "ea05d7e2-8e21-4d9c-d29f-256531e28cd2",
        "colab": {
          "base_uri": "https://localhost:8080/",
          "height": 235
        }
      },
      "cell_type": "code",
      "source": [
        "!apt-get install -y -qq software-properties-common python-software-properties module-init-tools\n",
        "!add-apt-repository -y ppa:alessandro-strada/ppa 2>&1 > /dev/null\n",
        "!apt-get update -qq 2>&1 > /dev/null\n",
        "!apt-get -y install -qq google-drive-ocamlfuse fuse\n",
        "from google.colab import auth\n",
        "auth.authenticate_user()\n",
        "from oauth2client.client import GoogleCredentials\n",
        "creds = GoogleCredentials.get_application_default()\n",
        "import getpass\n",
        "!google-drive-ocamlfuse -headless -id={creds.client_id} -secret={creds.client_secret} < /dev/null 2>&1 | grep URL\n",
        "vcode = getpass.getpass()\n",
        "!echo {vcode} | google-drive-ocamlfuse -headless -id={creds.client_id} -secret={creds.client_secret}"
      ],
      "execution_count": 5,
      "outputs": [
        {
          "output_type": "stream",
          "text": [
            "E: Package 'python-software-properties' has no installation candidate\n",
            "Selecting previously unselected package google-drive-ocamlfuse.\n",
            "(Reading database ... 131322 files and directories currently installed.)\n",
            "Preparing to unpack .../google-drive-ocamlfuse_0.7.1-0ubuntu3~ubuntu18.04.1_amd64.deb ...\n",
            "Unpacking google-drive-ocamlfuse (0.7.1-0ubuntu3~ubuntu18.04.1) ...\n",
            "Setting up google-drive-ocamlfuse (0.7.1-0ubuntu3~ubuntu18.04.1) ...\n",
            "Processing triggers for man-db (2.8.3-2ubuntu0.1) ...\n",
            "Please, open the following URL in a web browser: https://accounts.google.com/o/oauth2/auth?client_id=32555940559.apps.googleusercontent.com&redirect_uri=urn%3Aietf%3Awg%3Aoauth%3A2.0%3Aoob&scope=https%3A%2F%2Fwww.googleapis.com%2Fauth%2Fdrive&response_type=code&access_type=offline&approval_prompt=force\n",
            "··········\n",
            "Please, open the following URL in a web browser: https://accounts.google.com/o/oauth2/auth?client_id=32555940559.apps.googleusercontent.com&redirect_uri=urn%3Aietf%3Awg%3Aoauth%3A2.0%3Aoob&scope=https%3A%2F%2Fwww.googleapis.com%2Fauth%2Fdrive&response_type=code&access_type=offline&approval_prompt=force\n",
            "Please enter the verification code: Access token retrieved correctly.\n"
          ],
          "name": "stdout"
        }
      ]
    },
    {
      "metadata": {
        "id": "sKoKvSHuxRZm",
        "colab_type": "code",
        "colab": {}
      },
      "cell_type": "code",
      "source": [
        "!mkdir -p drive\n",
        "!google-drive-ocamlfuse drive"
      ],
      "execution_count": 0,
      "outputs": []
    },
    {
      "metadata": {
        "id": "XT1GJk9uxgTC",
        "colab_type": "code",
        "outputId": "fd5a4fc0-2ee6-425d-ffbd-d6fb2f5506a0",
        "colab": {
          "base_uri": "https://localhost:8080/",
          "height": 143
        }
      },
      "cell_type": "code",
      "source": [
        "!ls -la"
      ],
      "execution_count": 0,
      "outputs": [
        {
          "output_type": "stream",
          "text": [
            "total 32\n",
            "drwxr-xr-x 1 root root 4096 Mar  1 05:41 .\n",
            "drwxr-xr-x 1 root root 4096 Mar  1 05:26 ..\n",
            "-rw-r--r-- 1 root root 2480 Mar  1 05:40 adc.json\n",
            "drwxr-xr-x 1 root root 4096 Mar  1 05:40 .config\n",
            "drwxr-xr-x 2 root root 4096 Mar  1 05:41 drive\n",
            "drwxr-xr-x 1 root root 4096 Feb 26 17:33 sample_data\n"
          ],
          "name": "stdout"
        }
      ]
    },
    {
      "metadata": {
        "id": "xq0guf7sxkAp",
        "colab_type": "code",
        "outputId": "9f86fa26-62b2-4881-c00d-549e29c7fc91",
        "colab": {
          "base_uri": "https://localhost:8080/",
          "height": 35
        }
      },
      "cell_type": "code",
      "source": [
        "import os\n",
        "#os.chdir(\"/drive/\")\n",
        "print(os.listdir('.'))\n",
        "os.chdir('app')"
      ],
      "execution_count": 0,
      "outputs": [
        {
          "output_type": "stream",
          "text": [
            "['.Trash', 'Colab', '赵家雄.ods (bd43eca5)', '赵家雄.ods (f4a0a801)', 'app', '赵家雄.ods (4e7c5c5b)', '身份证.psd', '学生证.psd', '实习通知书@成都公司@2018届@赵家雄.pdf', '赵家雄.ods']\n"
          ],
          "name": "stdout"
        }
      ]
    },
    {
      "metadata": {
        "id": "LbYAtlbXzNM5",
        "colab_type": "code",
        "outputId": "7c3fc84b-9e41-4ddd-cb74-ad9056919777",
        "colab": {
          "base_uri": "https://localhost:8080/",
          "height": 179
        }
      },
      "cell_type": "code",
      "source": [
        "print(os.getcwd())\n",
        "!git clone https://github.com/deepfakes/faceswap.git\n"
      ],
      "execution_count": 0,
      "outputs": [
        {
          "output_type": "stream",
          "text": [
            "/content/drive/app\n",
            "Cloning into 'faceswap'...\n",
            "remote: Enumerating objects: 42, done.\u001b[K\n",
            "remote: Counting objects: 100% (42/42), done.\u001b[K\n",
            "remote: Compressing objects: 100% (35/35), done.\u001b[K\n",
            "remote: Total 2655 (delta 12), reused 20 (delta 7), pack-reused 2613\u001b[K\n",
            "Receiving objects: 100% (2655/2655), 173.24 MiB | 11.33 MiB/s, done.\n",
            "Resolving deltas: 100% (1654/1654), done.\n",
            "Checking out files: 100% (119/119), done.\n"
          ],
          "name": "stdout"
        }
      ]
    },
    {
      "metadata": {
        "id": "KA1sOgvL1EL9",
        "colab_type": "code",
        "outputId": "5eb65947-c9f7-459a-fc77-da396972cfce",
        "colab": {
          "base_uri": "https://localhost:8080/",
          "height": 35
        }
      },
      "cell_type": "code",
      "source": [
        "import tensorflow as tf\n",
        "\n",
        "tf.__version__\n",
        "print(os.listdir('.'))"
      ],
      "execution_count": 0,
      "outputs": [
        {
          "output_type": "stream",
          "text": [
            "['video', 'faceswap']\n"
          ],
          "name": "stdout"
        }
      ]
    },
    {
      "metadata": {
        "id": "AApkZSV21ycH",
        "colab_type": "code",
        "outputId": "fdfccd55-ae2f-4db9-fc42-7c50425a2034",
        "colab": {
          "base_uri": "https://localhost:8080/",
          "height": 55
        }
      },
      "cell_type": "code",
      "source": [
        "os.chdir('faceswap')\n",
        "print(os.listdir('.'))"
      ],
      "execution_count": 0,
      "outputs": [
        {
          "output_type": "stream",
          "text": [
            "['setup.py', 'USAGE.md', 'LICENSE', '.install', '.git', 'requirements.txt', 'INSTALL.md', 'tools.py', 'tools', 'faceswap.py', 'scripts', 'Dockerfile.gpu', 'lib', '.github', 'README.md', 'config', '.dockerignore', 'plugins', '.gitignore', 'setup.cfg', 'Dockerfile.cpu']\n"
          ],
          "name": "stdout"
        }
      ]
    },
    {
      "metadata": {
        "id": "By5unxAB2BbW",
        "colab_type": "code",
        "colab": {
          "base_uri": "https://localhost:8080/",
          "height": 1297
        },
        "outputId": "451c1c2a-b178-4fc5-e454-18d2f0a74ece"
      },
      "cell_type": "code",
      "source": [
        "!pip install -r requirements.txt"
      ],
      "execution_count": 23,
      "outputs": [
        {
          "output_type": "stream",
          "text": [
            "Requirement already satisfied: tqdm in /usr/local/lib/python3.6/dist-packages (from -r requirements.txt (line 1)) (4.28.1)\n",
            "Requirement already satisfied: psutil in /usr/local/lib/python3.6/dist-packages (from -r requirements.txt (line 2)) (5.4.8)\n",
            "Requirement already satisfied: pathlib in /usr/local/lib/python3.6/dist-packages (from -r requirements.txt (line 3)) (1.0.1)\n",
            "Collecting numpy==1.15.4 (from -r requirements.txt (line 4))\n",
            "\u001b[?25l  Downloading https://files.pythonhosted.org/packages/ff/7f/9d804d2348471c67a7d8b5f84f9bc59fd1cefa148986f2b74552f8573555/numpy-1.15.4-cp36-cp36m-manylinux1_x86_64.whl (13.9MB)\n",
            "\u001b[K    100% |████████████████████████████████| 13.9MB 2.4MB/s \n",
            "\u001b[?25hRequirement already satisfied: opencv-python in /usr/local/lib/python3.6/dist-packages (from -r requirements.txt (line 5)) (3.4.5.20)\n",
            "Requirement already satisfied: scikit-image in /usr/local/lib/python3.6/dist-packages (from -r requirements.txt (line 6)) (0.13.1)\n",
            "Requirement already satisfied: scikit-learn in /usr/local/lib/python3.6/dist-packages (from -r requirements.txt (line 7)) (0.20.2)\n",
            "Collecting matplotlib==2.2.2 (from -r requirements.txt (line 8))\n",
            "\u001b[?25l  Downloading https://files.pythonhosted.org/packages/49/b8/89dbd27f2fb171ce753bb56220d4d4f6dbc5fe32b95d8edc4415782ef07f/matplotlib-2.2.2-cp36-cp36m-manylinux1_x86_64.whl (12.6MB)\n",
            "\u001b[K    100% |████████████████████████████████| 12.6MB 3.1MB/s \n",
            "\u001b[?25hCollecting ffmpy==0.2.2 (from -r requirements.txt (line 9))\n",
            "  Downloading https://files.pythonhosted.org/packages/18/e6/4309f4c02d38aef16236650766f78e949c1b8170f5d63cc4b3be7148565f/ffmpy-0.2.2.tar.gz\n",
            "Requirement already satisfied: nvidia-ml-py3 in /usr/local/lib/python3.6/dist-packages (from -r requirements.txt (line 10)) (7.352.0)\n",
            "Collecting h5py==2.9.0 (from -r requirements.txt (line 11))\n",
            "\u001b[?25l  Downloading https://files.pythonhosted.org/packages/30/99/d7d4fbf2d02bb30fb76179911a250074b55b852d34e98dd452a9f394ac06/h5py-2.9.0-cp36-cp36m-manylinux1_x86_64.whl (2.8MB)\n",
            "\u001b[K    100% |████████████████████████████████| 2.8MB 10.0MB/s \n",
            "\u001b[?25hRequirement already satisfied: Keras==2.2.4 in /usr/local/lib/python3.6/dist-packages (from -r requirements.txt (line 12)) (2.2.4)\n",
            "Requirement already satisfied: cmake in /usr/local/lib/python3.6/dist-packages (from -r requirements.txt (line 13)) (3.12.0)\n",
            "Requirement already satisfied: dlib in /usr/local/lib/python3.6/dist-packages (from -r requirements.txt (line 14)) (19.16.0)\n",
            "Collecting face-recognition (from -r requirements.txt (line 15))\n",
            "  Downloading https://files.pythonhosted.org/packages/3f/ed/ad9a28042f373d4633fc8b49109b623597d6f193d3bbbef7780a5ee8eef2/face_recognition-1.2.3-py2.py3-none-any.whl\n",
            "Requirement already satisfied: PyWavelets>=0.4.0 in /usr/local/lib/python3.6/dist-packages (from scikit-image->-r requirements.txt (line 6)) (1.0.2)\n",
            "Requirement already satisfied: six>=1.7.3 in /usr/local/lib/python3.6/dist-packages (from scikit-image->-r requirements.txt (line 6)) (1.11.0)\n",
            "Requirement already satisfied: scipy>=0.17.0 in /usr/local/lib/python3.6/dist-packages (from scikit-image->-r requirements.txt (line 6)) (1.1.0)\n",
            "Requirement already satisfied: networkx>=1.8 in /usr/local/lib/python3.6/dist-packages (from scikit-image->-r requirements.txt (line 6)) (2.2)\n",
            "Requirement already satisfied: pillow>=2.1.0 in /usr/local/lib/python3.6/dist-packages (from scikit-image->-r requirements.txt (line 6)) (4.0.0)\n",
            "Requirement already satisfied: kiwisolver>=1.0.1 in /usr/local/lib/python3.6/dist-packages (from matplotlib==2.2.2->-r requirements.txt (line 8)) (1.0.1)\n",
            "Requirement already satisfied: cycler>=0.10 in /usr/local/lib/python3.6/dist-packages (from matplotlib==2.2.2->-r requirements.txt (line 8)) (0.10.0)\n",
            "Requirement already satisfied: python-dateutil>=2.1 in /usr/local/lib/python3.6/dist-packages (from matplotlib==2.2.2->-r requirements.txt (line 8)) (2.5.3)\n",
            "Requirement already satisfied: pyparsing!=2.0.4,!=2.1.2,!=2.1.6,>=2.0.1 in /usr/local/lib/python3.6/dist-packages (from matplotlib==2.2.2->-r requirements.txt (line 8)) (2.3.1)\n",
            "Requirement already satisfied: pytz in /usr/local/lib/python3.6/dist-packages (from matplotlib==2.2.2->-r requirements.txt (line 8)) (2018.9)\n",
            "Requirement already satisfied: keras-preprocessing>=1.0.5 in /usr/local/lib/python3.6/dist-packages (from Keras==2.2.4->-r requirements.txt (line 12)) (1.0.9)\n",
            "Requirement already satisfied: keras-applications>=1.0.6 in /usr/local/lib/python3.6/dist-packages (from Keras==2.2.4->-r requirements.txt (line 12)) (1.0.7)\n",
            "Requirement already satisfied: pyyaml in /usr/local/lib/python3.6/dist-packages (from Keras==2.2.4->-r requirements.txt (line 12)) (3.13)\n",
            "Requirement already satisfied: Click>=6.0 in /usr/local/lib/python3.6/dist-packages (from face-recognition->-r requirements.txt (line 15)) (7.0)\n",
            "Collecting face-recognition-models>=0.3.0 (from face-recognition->-r requirements.txt (line 15))\n",
            "\u001b[?25l  Downloading https://files.pythonhosted.org/packages/cf/3b/4fd8c534f6c0d1b80ce0973d01331525538045084c73c153ee6df20224cf/face_recognition_models-0.3.0.tar.gz (100.1MB)\n",
            "\u001b[K    100% |████████████████████████████████| 100.2MB 197kB/s \n",
            "\u001b[?25hRequirement already satisfied: decorator>=4.3.0 in /usr/local/lib/python3.6/dist-packages (from networkx>=1.8->scikit-image->-r requirements.txt (line 6)) (4.3.2)\n",
            "Requirement already satisfied: olefile in /usr/local/lib/python3.6/dist-packages (from pillow>=2.1.0->scikit-image->-r requirements.txt (line 6)) (0.46)\n",
            "Requirement already satisfied: setuptools in /usr/local/lib/python3.6/dist-packages (from kiwisolver>=1.0.1->matplotlib==2.2.2->-r requirements.txt (line 8)) (40.8.0)\n",
            "Building wheels for collected packages: ffmpy, face-recognition-models\n",
            "  Building wheel for ffmpy (setup.py) ... \u001b[?25ldone\n",
            "\u001b[?25h  Stored in directory: /root/.cache/pip/wheels/16/28/57/96aff0d874198125b03f542d854e7ebdc61a56b09a4d49de6a\n",
            "  Building wheel for face-recognition-models (setup.py) ... \u001b[?25ldone\n",
            "\u001b[?25h  Stored in directory: /root/.cache/pip/wheels/d2/99/18/59c6c8f01e39810415c0e63f5bede7d83dfb0ffc039865465f\n",
            "Successfully built ffmpy face-recognition-models\n",
            "\u001b[31mtorchvision 0.2.1 has requirement pillow>=4.1.1, but you'll have pillow 4.0.0 which is incompatible.\u001b[0m\n",
            "\u001b[31mthinc 6.12.1 has requirement wrapt<1.11.0,>=1.10.0, but you'll have wrapt 1.11.1 which is incompatible.\u001b[0m\n",
            "\u001b[31mtensorflow 1.13.1 has requirement tensorboard<1.14.0,>=1.13.0, but you'll have tensorboard 1.12.2 which is incompatible.\u001b[0m\n",
            "\u001b[31mpymc3 3.6 has requirement joblib<0.13.0, but you'll have joblib 0.13.2 which is incompatible.\u001b[0m\n",
            "\u001b[31mfeaturetools 0.4.1 has requirement pandas>=0.23.0, but you'll have pandas 0.22.0 which is incompatible.\u001b[0m\n",
            "\u001b[31malbumentations 0.1.12 has requirement imgaug<0.2.7,>=0.2.5, but you'll have imgaug 0.2.8 which is incompatible.\u001b[0m\n",
            "Installing collected packages: numpy, matplotlib, ffmpy, h5py, face-recognition-models, face-recognition\n",
            "  Found existing installation: numpy 1.14.6\n",
            "    Uninstalling numpy-1.14.6:\n",
            "      Successfully uninstalled numpy-1.14.6\n",
            "  Found existing installation: matplotlib 3.0.2\n",
            "    Uninstalling matplotlib-3.0.2:\n",
            "      Successfully uninstalled matplotlib-3.0.2\n",
            "  Found existing installation: h5py 2.8.0\n",
            "    Uninstalling h5py-2.8.0:\n",
            "      Successfully uninstalled h5py-2.8.0\n",
            "Successfully installed face-recognition-1.2.3 face-recognition-models-0.3.0 ffmpy-0.2.2 h5py-2.9.0 matplotlib-2.2.2 numpy-1.15.4\n"
          ],
          "name": "stdout"
        },
        {
          "output_type": "display_data",
          "data": {
            "application/vnd.colab-display-data+json": {
              "pip_warning": {
                "packages": [
                  "h5py",
                  "matplotlib",
                  "mpl_toolkits",
                  "numpy"
                ]
              }
            }
          },
          "metadata": {
            "tags": []
          }
        }
      ]
    },
    {
      "metadata": {
        "id": "CrQO8hsF5E-j",
        "colab_type": "code",
        "colab": {
          "base_uri": "https://localhost:8080/",
          "height": 35
        },
        "outputId": "1a8af395-c060-4a6d-efdd-dd0d8fc016b0"
      },
      "cell_type": "code",
      "source": [
        "import os\n",
        "print(os.listdir('.'))\n",
        "os.chdir('drive/app/faceswap')"
      ],
      "execution_count": 3,
      "outputs": [
        {
          "output_type": "stream",
          "text": [
            "['.config', 'adc.json', 'drive', 'sample_data']\n"
          ],
          "name": "stdout"
        }
      ]
    },
    {
      "metadata": {
        "id": "1W39b9C-5pw4",
        "colab_type": "code",
        "colab": {}
      },
      "cell_type": "code",
      "source": [
        "'''\n",
        "1、分解图片 \n",
        "ffmpeg -i workspace/video/A workspace/data/image/A/frame-%5d.png\n",
        "2、人脸识别\n",
        "\n",
        "python faceswap.py extract -i workspace/data/image/A -o workspace/data/face/A\n",
        "\n",
        "3、训练模型\n",
        "python faceswap.py train -A workspace/data/face/A -B workspace/data/face/B -m  workspace/data/models -p \n",
        "4、原裁剪图片人脸替换 -s 后转前 A模型就是前者转后者，B模型就是后者转前者\n",
        "python faceswap.py convert -s -i workspace/data/image/A -o workspace/data/out/image -m workspace/data/models\n",
        "5、照片合成\n",
        "ffmpeg -i workspace/data/out/image/frame-%5d.png -c:v libx264 -vf \"fps=25,format=yuv420p\" workspace/data/out/out.mp4\n",
        "\n",
        "'''"
      ],
      "execution_count": 0,
      "outputs": []
    },
    {
      "metadata": {
        "id": "R_l9socu7la-",
        "colab_type": "code",
        "colab": {
          "base_uri": "https://localhost:8080/",
          "height": 757
        },
        "outputId": "7f38926f-030a-426e-ed36-ff14b00c925c"
      },
      "cell_type": "code",
      "source": [
        "!ffmpeg -i workspace/video/A.mp4 workspace/data/image/A/frame-%5d.png\n"
      ],
      "execution_count": 7,
      "outputs": [
        {
          "output_type": "stream",
          "text": [
            "ffmpeg version 3.4.4-0ubuntu0.18.04.1 Copyright (c) 2000-2018 the FFmpeg developers\n",
            "  built with gcc 7 (Ubuntu 7.3.0-16ubuntu3)\n",
            "  configuration: --prefix=/usr --extra-version=0ubuntu0.18.04.1 --toolchain=hardened --libdir=/usr/lib/x86_64-linux-gnu --incdir=/usr/include/x86_64-linux-gnu --enable-gpl --disable-stripping --enable-avresample --enable-avisynth --enable-gnutls --enable-ladspa --enable-libass --enable-libbluray --enable-libbs2b --enable-libcaca --enable-libcdio --enable-libflite --enable-libfontconfig --enable-libfreetype --enable-libfribidi --enable-libgme --enable-libgsm --enable-libmp3lame --enable-libmysofa --enable-libopenjpeg --enable-libopenmpt --enable-libopus --enable-libpulse --enable-librubberband --enable-librsvg --enable-libshine --enable-libsnappy --enable-libsoxr --enable-libspeex --enable-libssh --enable-libtheora --enable-libtwolame --enable-libvorbis --enable-libvpx --enable-libwavpack --enable-libwebp --enable-libx265 --enable-libxml2 --enable-libxvid --enable-libzmq --enable-libzvbi --enable-omx --enable-openal --enable-opengl --enable-sdl2 --enable-libdc1394 --enable-libdrm --enable-libiec61883 --enable-chromaprint --enable-frei0r --enable-libopencv --enable-libx264 --enable-shared\n",
            "  libavutil      55. 78.100 / 55. 78.100\n",
            "  libavcodec     57.107.100 / 57.107.100\n",
            "  libavformat    57. 83.100 / 57. 83.100\n",
            "  libavdevice    57. 10.100 / 57. 10.100\n",
            "  libavfilter     6.107.100 /  6.107.100\n",
            "  libavresample   3.  7.  0 /  3.  7.  0\n",
            "  libswscale      4.  8.100 /  4.  8.100\n",
            "  libswresample   2.  9.100 /  2.  9.100\n",
            "  libpostproc    54.  7.100 / 54.  7.100\n",
            "Input #0, mov,mp4,m4a,3gp,3g2,mj2, from 'workspace/video/A.mp4':\n",
            "  Metadata:\n",
            "    major_brand     : mp42\n",
            "    minor_version   : 19529854\n",
            "    compatible_brands: mp42isom\n",
            "    creation_time   : 2018-02-10T18:00:39.000000Z\n",
            "  Duration: 00:00:21.90, start: 0.041708, bitrate: 49765 kb/s\n",
            "    Stream #0:0(eng): Video: h264 (High) (avc1 / 0x31637661), yuv420p(tv, bt709), 1280x720 [SAR 1:1 DAR 16:9], 49763 kb/s, 23.98 fps, 23.98 tbr, 24k tbn, 47.95 tbc (default)\n",
            "    Metadata:\n",
            "      creation_time   : 2018-02-10T18:00:39.000000Z\n",
            "      handler_name    : Video Media Handler\n",
            "      encoder         : AVC Coding\n",
            "Stream mapping:\n",
            "  Stream #0:0 -> #0:0 (h264 (native) -> png (native))\n",
            "Press [q] to stop, [?] for help\n",
            "Output #0, image2, to 'workspace/data/image/A/frame-%5d.png':\n",
            "  Metadata:\n",
            "    major_brand     : mp42\n",
            "    minor_version   : 19529854\n",
            "    compatible_brands: mp42isom\n",
            "    encoder         : Lavf57.83.100\n",
            "    Stream #0:0(eng): Video: png, rgb24, 1280x720 [SAR 1:1 DAR 16:9], q=2-31, 200 kb/s, 23.98 fps, 23.98 tbn, 23.98 tbc (default)\n",
            "    Metadata:\n",
            "      creation_time   : 2018-02-10T18:00:39.000000Z\n",
            "      handler_name    : Video Media Handler\n",
            "      encoder         : Lavc57.107.100 png\n",
            "frame=  524 fps=0.4 q=-0.0 Lsize=N/A time=00:00:21.85 bitrate=N/A speed=0.0179x    \n",
            "video:110020kB audio:0kB subtitle:0kB other streams:0kB global headers:0kB muxing overhead: unknown\n"
          ],
          "name": "stdout"
        }
      ]
    },
    {
      "metadata": {
        "id": "YCbST65PBq96",
        "colab_type": "code",
        "colab": {
          "base_uri": "https://localhost:8080/",
          "height": 757
        },
        "outputId": "788390ce-67a8-4e6a-f0d9-ce0d0d6c383e"
      },
      "cell_type": "code",
      "source": [
        "!ffmpeg -i workspace/video/B.mp4 workspace/data/image/B/frame-%5d.png"
      ],
      "execution_count": 9,
      "outputs": [
        {
          "output_type": "stream",
          "text": [
            "ffmpeg version 3.4.4-0ubuntu0.18.04.1 Copyright (c) 2000-2018 the FFmpeg developers\n",
            "  built with gcc 7 (Ubuntu 7.3.0-16ubuntu3)\n",
            "  configuration: --prefix=/usr --extra-version=0ubuntu0.18.04.1 --toolchain=hardened --libdir=/usr/lib/x86_64-linux-gnu --incdir=/usr/include/x86_64-linux-gnu --enable-gpl --disable-stripping --enable-avresample --enable-avisynth --enable-gnutls --enable-ladspa --enable-libass --enable-libbluray --enable-libbs2b --enable-libcaca --enable-libcdio --enable-libflite --enable-libfontconfig --enable-libfreetype --enable-libfribidi --enable-libgme --enable-libgsm --enable-libmp3lame --enable-libmysofa --enable-libopenjpeg --enable-libopenmpt --enable-libopus --enable-libpulse --enable-librubberband --enable-librsvg --enable-libshine --enable-libsnappy --enable-libsoxr --enable-libspeex --enable-libssh --enable-libtheora --enable-libtwolame --enable-libvorbis --enable-libvpx --enable-libwavpack --enable-libwebp --enable-libx265 --enable-libxml2 --enable-libxvid --enable-libzmq --enable-libzvbi --enable-omx --enable-openal --enable-opengl --enable-sdl2 --enable-libdc1394 --enable-libdrm --enable-libiec61883 --enable-chromaprint --enable-frei0r --enable-libopencv --enable-libx264 --enable-shared\n",
            "  libavutil      55. 78.100 / 55. 78.100\n",
            "  libavcodec     57.107.100 / 57.107.100\n",
            "  libavformat    57. 83.100 / 57. 83.100\n",
            "  libavdevice    57. 10.100 / 57. 10.100\n",
            "  libavfilter     6.107.100 /  6.107.100\n",
            "  libavresample   3.  7.  0 /  3.  7.  0\n",
            "  libswscale      4.  8.100 /  4.  8.100\n",
            "  libswresample   2.  9.100 /  2.  9.100\n",
            "  libpostproc    54.  7.100 / 54.  7.100\n",
            "Input #0, mov,mp4,m4a,3gp,3g2,mj2, from 'workspace/video/B.mp4':\n",
            "  Metadata:\n",
            "    major_brand     : mp42\n",
            "    minor_version   : 19529854\n",
            "    compatible_brands: mp42isom\n",
            "    creation_time   : 2018-02-10T17:57:18.000000Z\n",
            "  Duration: 00:00:27.36, start: 0.041708, bitrate: 49812 kb/s\n",
            "    Stream #0:0(eng): Video: h264 (High) (avc1 / 0x31637661), yuv420p(tv, bt709), 1280x720 [SAR 1:1 DAR 16:9], 49809 kb/s, 23.98 fps, 23.98 tbr, 24k tbn, 47.95 tbc (default)\n",
            "    Metadata:\n",
            "      creation_time   : 2018-02-10T17:57:18.000000Z\n",
            "      handler_name    : Video Media Handler\n",
            "      encoder         : AVC Coding\n",
            "Stream mapping:\n",
            "  Stream #0:0 -> #0:0 (h264 (native) -> png (native))\n",
            "Press [q] to stop, [?] for help\n",
            "Output #0, image2, to 'workspace/data/image/B/frame-%5d.png':\n",
            "  Metadata:\n",
            "    major_brand     : mp42\n",
            "    minor_version   : 19529854\n",
            "    compatible_brands: mp42isom\n",
            "    encoder         : Lavf57.83.100\n",
            "    Stream #0:0(eng): Video: png, rgb24, 1280x720 [SAR 1:1 DAR 16:9], q=2-31, 200 kb/s, 23.98 fps, 23.98 tbn, 23.98 tbc (default)\n",
            "    Metadata:\n",
            "      creation_time   : 2018-02-10T17:57:18.000000Z\n",
            "      handler_name    : Video Media Handler\n",
            "      encoder         : Lavc57.107.100 png\n",
            "frame=  655 fps=0.4 q=-0.0 Lsize=N/A time=00:00:27.31 bitrate=N/A speed=0.0179x    \n",
            "video:368397kB audio:0kB subtitle:0kB other streams:0kB global headers:0kB muxing overhead: unknown\n"
          ],
          "name": "stdout"
        }
      ]
    },
    {
      "metadata": {
        "id": "nicO4VUxICNH",
        "colab_type": "code",
        "colab": {
          "base_uri": "https://localhost:8080/",
          "height": 53
        },
        "outputId": "31da6461-359a-47c9-9635-2ace63df94b7"
      },
      "cell_type": "code",
      "source": [
        "!python faceswap.py extract -i workspace/data/image/A -o workspace/data/face/A"
      ],
      "execution_count": 14,
      "outputs": [
        {
          "output_type": "stream",
          "text": [
            "03/01/2019 07:34:13 INFO     Log level set to: INFO\n",
            "03/01/2019 07:34:13 ERROR    Tensorflow is a requirement but is not installed on your system.\n"
          ],
          "name": "stdout"
        }
      ]
    },
    {
      "metadata": {
        "id": "iPRPU90vImt1",
        "colab_type": "code",
        "colab": {
          "base_uri": "https://localhost:8080/",
          "height": 791
        },
        "outputId": "a2c24f06-9876-454b-d37b-8ea0c7e689dc"
      },
      "cell_type": "code",
      "source": [
        "!python -c \"import tensorflow as tf; tf.enable_eager_execution(); print(tf.reduce_sum(tf.random_normal([1000, 1000])))\"\n"
      ],
      "execution_count": 15,
      "outputs": [
        {
          "output_type": "stream",
          "text": [
            "Traceback (most recent call last):\n",
            "  File \"/usr/local/lib/python3.6/dist-packages/tensorflow/python/pywrap_tensorflow.py\", line 58, in <module>\n",
            "    from tensorflow.python.pywrap_tensorflow_internal import *\n",
            "  File \"/usr/local/lib/python3.6/dist-packages/tensorflow/python/pywrap_tensorflow_internal.py\", line 28, in <module>\n",
            "    _pywrap_tensorflow_internal = swig_import_helper()\n",
            "  File \"/usr/local/lib/python3.6/dist-packages/tensorflow/python/pywrap_tensorflow_internal.py\", line 24, in swig_import_helper\n",
            "    _mod = imp.load_module('_pywrap_tensorflow_internal', fp, pathname, description)\n",
            "  File \"/usr/lib/python3.6/imp.py\", line 243, in load_module\n",
            "    return load_dynamic(name, filename, file)\n",
            "  File \"/usr/lib/python3.6/imp.py\", line 343, in load_dynamic\n",
            "    return _load(spec)\n",
            "ImportError: libcublas.so.9.0: cannot open shared object file: No such file or directory\n",
            "\n",
            "During handling of the above exception, another exception occurred:\n",
            "\n",
            "Traceback (most recent call last):\n",
            "  File \"<string>\", line 1, in <module>\n",
            "  File \"/usr/local/lib/python3.6/dist-packages/tensorflow/__init__.py\", line 24, in <module>\n",
            "    from tensorflow.python import pywrap_tensorflow  # pylint: disable=unused-import\n",
            "  File \"/usr/local/lib/python3.6/dist-packages/tensorflow/python/__init__.py\", line 49, in <module>\n",
            "    from tensorflow.python import pywrap_tensorflow\n",
            "  File \"/usr/local/lib/python3.6/dist-packages/tensorflow/python/pywrap_tensorflow.py\", line 74, in <module>\n",
            "    raise ImportError(msg)\n",
            "ImportError: Traceback (most recent call last):\n",
            "  File \"/usr/local/lib/python3.6/dist-packages/tensorflow/python/pywrap_tensorflow.py\", line 58, in <module>\n",
            "    from tensorflow.python.pywrap_tensorflow_internal import *\n",
            "  File \"/usr/local/lib/python3.6/dist-packages/tensorflow/python/pywrap_tensorflow_internal.py\", line 28, in <module>\n",
            "    _pywrap_tensorflow_internal = swig_import_helper()\n",
            "  File \"/usr/local/lib/python3.6/dist-packages/tensorflow/python/pywrap_tensorflow_internal.py\", line 24, in swig_import_helper\n",
            "    _mod = imp.load_module('_pywrap_tensorflow_internal', fp, pathname, description)\n",
            "  File \"/usr/lib/python3.6/imp.py\", line 243, in load_module\n",
            "    return load_dynamic(name, filename, file)\n",
            "  File \"/usr/lib/python3.6/imp.py\", line 343, in load_dynamic\n",
            "    return _load(spec)\n",
            "ImportError: libcublas.so.9.0: cannot open shared object file: No such file or directory\n",
            "\n",
            "\n",
            "Failed to load the native TensorFlow runtime.\n",
            "\n",
            "See https://www.tensorflow.org/install/errors\n",
            "\n",
            "for some common reasons and solutions.  Include the entire stack trace\n",
            "above this error message when asking for help.\n"
          ],
          "name": "stdout"
        }
      ]
    },
    {
      "metadata": {
        "id": "kQ5whh4bMs0j",
        "colab_type": "code",
        "colab": {
          "base_uri": "https://localhost:8080/",
          "height": 2701
        },
        "outputId": "89ee2908-2775-4a25-d3c0-72f3fe97a189"
      },
      "cell_type": "code",
      "source": [
        "# Add NVIDIA package repository\n",
        "!apt-key adv --fetch-keys http://developer.download.nvidia.com/compute/cuda/repos/ubuntu1604/x86_64/7fa2af80.pub\n",
        "!wget http://developer.download.nvidia.com/compute/cuda/repos/ubuntu1604/x86_64/cuda-repo-ubuntu1604_9.1.85-1_amd64.deb\n",
        "!apt install ./cuda-repo-ubuntu1604_9.1.85-1_amd64.deb\n",
        "!wget http://developer.download.nvidia.com/compute/machine-learning/repos/ubuntu1604/x86_64/nvidia-machine-learning-repo-ubuntu1604_1.0.0-1_amd64.deb\n",
        "!apt install ./nvidia-machine-learning-repo-ubuntu1604_1.0.0-1_amd64.deb\n",
        "! apt update\n",
        "\n",
        "# Install CUDA and tools. Include optional NCCL 2.x\n",
        "!apt install cuda9.0 cuda-cublas-9-0 cuda-cufft-9-0 cuda-curand-9-0 \\\n",
        "    cuda-cusolver-9-0 cuda-cusparse-9-0 libcudnn7=7.2.1.38-1+cuda9.0 \\\n",
        "    libnccl2=2.2.13-1+cuda9.0 cuda-command-line-tools-9-0\n",
        "\n",
        "# Optional: Install the TensorRT runtime (must be after CUDA install)\n",
        "!apt update\n",
        "!apt install libnvinfer4=4.1.2-1+cuda9.0"
      ],
      "execution_count": 19,
      "outputs": [
        {
          "output_type": "stream",
          "text": [
            "Executing: /tmp/apt-key-gpghome.hia14xNikU/gpg.1.sh --fetch-keys http://developer.download.nvidia.com/compute/cuda/repos/ubuntu1604/x86_64/7fa2af80.pub\n",
            "gpg: requesting key from 'http://developer.download.nvidia.com/compute/cuda/repos/ubuntu1604/x86_64/7fa2af80.pub'\n",
            "gpg: key F60F4B3D7FA2AF80: \"cudatools <cudatools@nvidia.com>\" not changed\n",
            "gpg: Total number processed: 1\n",
            "gpg:              unchanged: 1\n",
            "--2019-03-01 07:49:22--  http://developer.download.nvidia.com/compute/cuda/repos/ubuntu1604/x86_64/cuda-repo-ubuntu1604_9.1.85-1_amd64.deb\n",
            "Resolving developer.download.nvidia.com (developer.download.nvidia.com)... 192.229.232.112, 2606:2800:247:2063:46e:21d:825:102e\n",
            "Connecting to developer.download.nvidia.com (developer.download.nvidia.com)|192.229.232.112|:80... connected.\n",
            "HTTP request sent, awaiting response... 200 OK\n",
            "Length: 2820 (2.8K) [application/x-deb]\n",
            "Saving to: ‘cuda-repo-ubuntu1604_9.1.85-1_amd64.deb’\n",
            "\n",
            "cuda-repo-ubuntu160 100%[===================>]   2.75K  --.-KB/s    in 0s      \n",
            "\n",
            "2019-03-01 07:49:25 (295 MB/s) - ‘cuda-repo-ubuntu1604_9.1.85-1_amd64.deb’ saved [2820/2820]\n",
            "\n",
            "Reading package lists... Done\n",
            "Building dependency tree       \n",
            "Reading state information... Done\n",
            "Note, selecting 'cuda-repo-ubuntu1604' instead of './cuda-repo-ubuntu1604_9.1.85-1_amd64.deb'\n",
            "The following NEW packages will be installed:\n",
            "  cuda-repo-ubuntu1604\n",
            "0 upgraded, 1 newly installed, 0 to remove and 6 not upgraded.\n",
            "Need to get 0 B/2,820 B of archives.\n",
            "After this operation, 37.9 kB of additional disk space will be used.\n",
            "Get:1 /content/drive/app/faceswap/cuda-repo-ubuntu1604_9.1.85-1_amd64.deb cuda-repo-ubuntu1604 amd64 9.1.85-1 [2,820 B]\n",
            "Selecting previously unselected package cuda-repo-ubuntu1604.\n",
            "(Reading database ... 131349 files and directories currently installed.)\n",
            "Preparing to unpack .../cuda-repo-ubuntu1604_9.1.85-1_amd64.deb ...\n",
            "Unpacking cuda-repo-ubuntu1604 (9.1.85-1) ...\n",
            "Setting up cuda-repo-ubuntu1604 (9.1.85-1) ...\n",
            "\n",
            "Configuration file '/etc/apt/sources.list.d/cuda.list'\n",
            " ==> File on system created by you or by a script.\n",
            " ==> File also in package provided by package maintainer.\n",
            "   What would you like to do about it ?  Your options are:\n",
            "    Y or I  : install the package maintainer's version\n",
            "    N or O  : keep your currently-installed version\n",
            "      D     : show the differences between the versions\n",
            "      Z     : start a shell to examine the situation\n",
            " The default action is to keep your current version.\n",
            "*** cuda.list (Y/I/N/O/D/Z) [default=N] ? y\n",
            "Installing new version of config file /etc/apt/sources.list.d/cuda.list ...\n",
            "N: Download is performed unsandboxed as root as file '/content/drive/app/faceswap/cuda-repo-ubuntu1604_9.1.85-1_amd64.deb' couldn't be accessed by user '_apt'. - pkgAcquire::Run (13: Permission denied)\n",
            "--2019-03-01 07:50:21--  http://developer.download.nvidia.com/compute/machine-learning/repos/ubuntu1604/x86_64/nvidia-machine-learning-repo-ubuntu1604_1.0.0-1_amd64.deb\n",
            "Resolving developer.download.nvidia.com (developer.download.nvidia.com)... 192.229.232.112, 2606:2800:247:2063:46e:21d:825:102e\n",
            "Connecting to developer.download.nvidia.com (developer.download.nvidia.com)|192.229.232.112|:80... connected.\n",
            "HTTP request sent, awaiting response... 200 OK\n",
            "Length: 2816 (2.8K) [application/x-deb]\n",
            "Saving to: ‘nvidia-machine-learning-repo-ubuntu1604_1.0.0-1_amd64.deb’\n",
            "\n",
            "nvidia-machine-lear 100%[===================>]   2.75K  --.-KB/s    in 0s      \n",
            "\n",
            "2019-03-01 07:50:24 (271 MB/s) - ‘nvidia-machine-learning-repo-ubuntu1604_1.0.0-1_amd64.deb’ saved [2816/2816]\n",
            "\n",
            "Reading package lists... Done\n",
            "Building dependency tree       \n",
            "Reading state information... Done\n",
            "Note, selecting 'nvidia-machine-learning-repo-ubuntu1604' instead of './nvidia-machine-learning-repo-ubuntu1604_1.0.0-1_amd64.deb'\n",
            "The following NEW packages will be installed:\n",
            "  nvidia-machine-learning-repo-ubuntu1604\n",
            "0 upgraded, 1 newly installed, 0 to remove and 4 not upgraded.\n",
            "Need to get 0 B/2,816 B of archives.\n",
            "After this operation, 37.9 kB of additional disk space will be used.\n",
            "Get:1 /content/drive/app/faceswap/nvidia-machine-learning-repo-ubuntu1604_1.0.0-1_amd64.deb nvidia-machine-learning-repo-ubuntu1604 amd64 1.0.0-1 [2,816 B]\n",
            "Selecting previously unselected package nvidia-machine-learning-repo-ubuntu1604.\n",
            "(Reading database ... 131352 files and directories currently installed.)\n",
            "Preparing to unpack .../nvidia-machine-learning-repo-ubuntu1604_1.0.0-1_amd64.deb ...\n",
            "Unpacking nvidia-machine-learning-repo-ubuntu1604 (1.0.0-1) ...\n",
            "Setting up nvidia-machine-learning-repo-ubuntu1604 (1.0.0-1) ...\n",
            "Warning: The postinst maintainerscript of the package nvidia-machine-learning-repo-ubuntu1604\n",
            "Warning: seems to use apt-key (provided by apt) without depending on gnupg or gnupg2.\n",
            "Warning: This will BREAK in the future and should be fixed by the package maintainer(s).\n",
            "Note: Check first if apt-key functionality is needed at all - it probably isn't!\n",
            "Warning: apt-key should not be used in scripts (called from postinst maintainerscript of the package nvidia-machine-learning-repo-ubuntu1604)\n",
            "OK\n",
            "N: Download is performed unsandboxed as root as file '/content/drive/app/faceswap/nvidia-machine-learning-repo-ubuntu1604_1.0.0-1_amd64.deb' couldn't be accessed by user '_apt'. - pkgAcquire::Run (13: Permission denied)\n",
            "Hit:1 https://cloud.r-project.org/bin/linux/ubuntu bionic-cran35/ InRelease\n",
            "Ign:2 http://developer.download.nvidia.com/compute/cuda/repos/ubuntu1604/x86_64  InRelease\n",
            "Ign:3 https://developer.download.nvidia.com/compute/machine-learning/repos/ubuntu1804/x86_64  InRelease\n",
            "Hit:4 https://developer.download.nvidia.com/compute/machine-learning/repos/ubuntu1804/x86_64  Release\n",
            "Ign:5 http://developer.download.nvidia.com/compute/machine-learning/repos/ubuntu1604/x86_64  InRelease\n",
            "Get:6 http://developer.download.nvidia.com/compute/cuda/repos/ubuntu1604/x86_64  Release [564 B]\n",
            "Get:7 http://developer.download.nvidia.com/compute/machine-learning/repos/ubuntu1604/x86_64  Release [564 B]\n",
            "Get:8 http://developer.download.nvidia.com/compute/cuda/repos/ubuntu1604/x86_64  Release.gpg [819 B]\n",
            "Get:9 http://developer.download.nvidia.com/compute/machine-learning/repos/ubuntu1604/x86_64  Release.gpg [801 B]\n",
            "Hit:10 http://ppa.launchpad.net/alessandro-strada/ppa/ubuntu bionic InRelease\n",
            "Hit:11 http://archive.ubuntu.com/ubuntu bionic InRelease\n",
            "Hit:13 http://security.ubuntu.com/ubuntu bionic-security InRelease\n",
            "Get:14 http://developer.download.nvidia.com/compute/cuda/repos/ubuntu1604/x86_64  Packages [174 kB]\n",
            "Hit:15 http://archive.ubuntu.com/ubuntu bionic-updates InRelease\n",
            "Get:16 http://developer.download.nvidia.com/compute/machine-learning/repos/ubuntu1604/x86_64  Packages [39.0 kB]\n",
            "Hit:17 http://archive.ubuntu.com/ubuntu bionic-backports InRelease\n",
            "Hit:18 http://ppa.launchpad.net/graphics-drivers/ppa/ubuntu bionic InRelease\n",
            "Hit:19 http://ppa.launchpad.net/marutter/c2d4u3.5/ubuntu bionic InRelease\n",
            "Fetched 215 kB in 2s (98.3 kB/s)\n",
            "Reading package lists... Done\n",
            "Building dependency tree       \n",
            "Reading state information... Done\n",
            "10 packages can be upgraded. Run 'apt list --upgradable' to see them.\n",
            "Reading package lists... Done\n",
            "Building dependency tree       \n",
            "Reading state information... Done\n",
            "Note, selecting 'nvinfer-runtime-trt-repo-ubuntu1604-5.0.2-ga-cuda9.0' for regex 'cuda9.0'\n",
            "Note, selecting 'nvinfer-runtime-trt-repo-ubuntu1604-4.0.1-ga-cuda9.0' for regex 'cuda9.0'\n",
            "Note, selecting 'nvinfer-runtime-trt-repo-ubuntu1604-3.0.4-ga-cuda9.0' for regex 'cuda9.0'\n",
            "Note, selecting 'nvinfer-runtime-trt-repo-ubuntu1604-5.0.0-rc-cuda9.0' for regex 'cuda9.0'\n",
            "The following additional packages will be installed:\n",
            "  cuda-core-9-0 cuda-cudart-9-0 cuda-cudart-dev-9-0 cuda-driver-dev-9-0\n",
            "  cuda-license-9-0 cuda-misc-headers-9-0\n",
            "The following packages will be REMOVED:\n",
            "  libcudnn7-dev libnccl-dev\n",
            "The following NEW packages will be installed:\n",
            "  cuda-command-line-tools-9-0 cuda-core-9-0 cuda-cublas-9-0 cuda-cudart-9-0\n",
            "  cuda-cudart-dev-9-0 cuda-cufft-9-0 cuda-curand-9-0 cuda-cusolver-9-0\n",
            "  cuda-cusparse-9-0 cuda-driver-dev-9-0 cuda-license-9-0 cuda-misc-headers-9-0\n",
            "  nvinfer-runtime-trt-repo-ubuntu1604-3.0.4-ga-cuda9.0\n",
            "  nvinfer-runtime-trt-repo-ubuntu1604-4.0.1-ga-cuda9.0\n",
            "  nvinfer-runtime-trt-repo-ubuntu1604-5.0.0-rc-cuda9.0\n",
            "  nvinfer-runtime-trt-repo-ubuntu1604-5.0.2-ga-cuda9.0\n",
            "The following held packages will be changed:\n",
            "  libcudnn7 libnccl2\n",
            "The following packages will be DOWNGRADED:\n",
            "  libcudnn7 libnccl2\n",
            "0 upgraded, 16 newly installed, 2 downgraded, 2 to remove and 6 not upgraded.\n",
            "E: Held packages were changed and -y was used without --allow-change-held-packages.\n",
            "Hit:1 https://cloud.r-project.org/bin/linux/ubuntu bionic-cran35/ InRelease\n",
            "Ign:2 http://developer.download.nvidia.com/compute/cuda/repos/ubuntu1604/x86_64  InRelease\n",
            "Ign:3 https://developer.download.nvidia.com/compute/machine-learning/repos/ubuntu1804/x86_64  InRelease\n",
            "Hit:4 https://developer.download.nvidia.com/compute/machine-learning/repos/ubuntu1804/x86_64  Release\n",
            "Ign:5 http://developer.download.nvidia.com/compute/machine-learning/repos/ubuntu1604/x86_64  InRelease\n",
            "Hit:6 http://developer.download.nvidia.com/compute/cuda/repos/ubuntu1604/x86_64  Release\n",
            "Hit:7 http://developer.download.nvidia.com/compute/machine-learning/repos/ubuntu1604/x86_64  Release\n",
            "Hit:8 http://security.ubuntu.com/ubuntu bionic-security InRelease\n",
            "Hit:10 http://archive.ubuntu.com/ubuntu bionic InRelease\n",
            "Hit:11 http://ppa.launchpad.net/alessandro-strada/ppa/ubuntu bionic InRelease\n",
            "Hit:13 http://archive.ubuntu.com/ubuntu bionic-updates InRelease\n",
            "Hit:15 http://archive.ubuntu.com/ubuntu bionic-backports InRelease\n",
            "Hit:16 http://ppa.launchpad.net/graphics-drivers/ppa/ubuntu bionic InRelease\n",
            "Hit:17 http://ppa.launchpad.net/marutter/c2d4u3.5/ubuntu bionic InRelease\n",
            "Reading package lists... Done\n",
            "Building dependency tree       \n",
            "Reading state information... Done\n",
            "10 packages can be upgraded. Run 'apt list --upgradable' to see them.\n",
            "Reading package lists... Done\n",
            "Building dependency tree       \n",
            "Reading state information... Done\n",
            "E: Unable to locate package libnvinfer4\n"
          ],
          "name": "stdout"
        }
      ]
    }
  ]
}